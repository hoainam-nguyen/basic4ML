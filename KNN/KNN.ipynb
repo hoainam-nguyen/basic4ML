{
 "cells": [
  {
   "cell_type": "markdown",
   "id": "27a008a3",
   "metadata": {},
   "source": [
    "# Khởi tạo một số thư viện cần thiết "
   ]
  },
  {
   "cell_type": "code",
   "execution_count": 62,
   "id": "011517f3",
   "metadata": {},
   "outputs": [],
   "source": [
    "from sklearn import datasets, neighbors\n",
    "from sklearn.model_selection import train_test_split\n",
    "from sklearn.metrics import accuracy_score\n",
    "import matplotlib.pyplot as plt\n",
    "import numpy as np\n",
    "from tqdm import tqdm\n",
    "import math"
   ]
  },
  {
   "cell_type": "markdown",
   "id": "0f9f3bc5",
   "metadata": {},
   "source": [
    "# Load bộ dữ liệu MNIST\n",
    "Bộ dữ liệu có 1779 ảnh là chữ viết tay các con số từ 0->9"
   ]
  },
  {
   "cell_type": "code",
   "execution_count": 3,
   "id": "e9ba3e64",
   "metadata": {},
   "outputs": [],
   "source": [
    "digit = datasets.load_digits()\n",
    "# Ma trận pixel: 8x8\n",
    "digit_X = digit.data\n",
    "# Nhãn tương ứng \n",
    "digit_Y = digit.target"
   ]
  },
  {
   "cell_type": "code",
   "execution_count": 4,
   "id": "48cdc988",
   "metadata": {
    "scrolled": true
   },
   "outputs": [
    {
     "name": "stdout",
     "output_type": "stream",
     "text": [
      "Labels of image: 0\n"
     ]
    },
    {
     "data": {
      "image/png": "[encoded data removed]",
      "text/plain": [
       "<Figure size 432x288 with 1 Axes>"
      ]
     },
     "metadata": {
      "needs_background": "light"
     },
     "output_type": "display_data"
    }
   ],
   "source": [
    "plt.gray()\n",
    "plt.imshow(digit_X[0].reshape(8, 8))\n",
    "print('Labels of image: {}'.format(digit_Y[0]))"
   ]
  },
  {
   "cell_type": "markdown",
   "id": "e7b0b01c",
   "metadata": {},
   "source": [
    "### . Chia train, test sử dụng train_test_split của sklearn"
   ]
  },
  {
   "cell_type": "code",
   "execution_count": 5,
   "id": "77b6e35d",
   "metadata": {},
   "outputs": [],
   "source": [
    "X_train, X_test, y_train, y_test = train_test_split(digit_X, digit_Y, test_size = 360)"
   ]
  },
  {
   "cell_type": "markdown",
   "id": "e2b8480e",
   "metadata": {},
   "source": [
    "# Xây dựng model KNN bằng numpy"
   ]
  },
  {
   "cell_type": "markdown",
   "id": "21ec0731",
   "metadata": {},
   "source": [
    "### Hàm tính khoảng cách giữa 2 data point"
   ]
  },
  {
   "cell_type": "code",
   "execution_count": 7,
   "id": "4d81cb78",
   "metadata": {},
   "outputs": [],
   "source": [
    "def calculate_distance(p1,p2):\n",
    "    distance = 0\n",
    "    for i in range(len(p1)):\n",
    "        distance += (p1[i] - p2[i])*(p1[i] - p2[i])\n",
    "    return distance**0.5"
   ]
  },
  {
   "cell_type": "markdown",
   "id": "bc812296",
   "metadata": {},
   "source": [
    "### Hàm xác định K láng giềng"
   ]
  },
  {
   "cell_type": "code",
   "execution_count": 57,
   "id": "37c1d8d1",
   "metadata": {},
   "outputs": [],
   "source": [
    "# Hàm tìm ra K láng giềng (K điểm gần nhất)\n",
    "def get_k_neighbors(X_train, label_y, point, k): \n",
    "    '''\n",
    "    X_train\n",
    "    label_y \n",
    "    point: điểm dữ liệu đang xét\n",
    "    k\n",
    "    \n",
    "    Return: K láng giềng gần nhất\n",
    "    ''' \n",
    "    # Tạo matrix lưu trữ khoảng cách\n",
    "    distances = []\n",
    "    # Tạo matrix lưu trữ K điểm láng giềng\n",
    "    neighbors = []\n",
    "\n",
    "    # Tính khoảng cách từ điểm đang xét đến tất cả các điểm trong tập training_X\n",
    "    for i in range(len(X_train)):\n",
    "        distance = calculate_distance(X_train[i], point)\n",
    "        distances.append(distance)\n",
    "\n",
    "    # Tìm ra K điểm có khoảng cách nhỏ nhất\n",
    "    index = [] # Lưu vị trí K điểm cần tìm \n",
    "    while len(neighbors) < k:\n",
    "        i = 0\n",
    "        min_distance = distances[0]\n",
    "        min_idx = 0\n",
    "        while i < len(distances):\n",
    "            # Skip qua nếu điểm đó đã được xét\n",
    "            if i in index:\n",
    "                i+=1\n",
    "                continue\n",
    "            # Update khoảng cách nhỏ nhất và vị trí\n",
    "            if distances[i] < min_distance:\n",
    "                min_distance = distances[i]\n",
    "                min_idx = i\n",
    "            i+=1\n",
    "\n",
    "        # Add index và skip đến bước tiếp theo\n",
    "        index.append(min_idx)\n",
    "        neighbors.append(label_y[min_idx])\n",
    "\n",
    "    return neighbors"
   ]
  },
  {
   "cell_type": "markdown",
   "id": "238c5116",
   "metadata": {},
   "source": [
    "### Hàm dự đoán"
   ]
  },
  {
   "cell_type": "code",
   "execution_count": 51,
   "id": "f0382595",
   "metadata": {},
   "outputs": [],
   "source": [
    "def predict(X_train, label_y, point, k):\n",
    "    # Nhãn của K điểm gần nhất\n",
    "    neighbor_labels = get_k_neighbors(X_train, label_y, point, k)\n",
    "    # Tạo một matrix có length=10 tương ứng với 10 nhãn từ 0->9\n",
    "    labels_count = [0,0,0,0,0,0,0,0,0,0]\n",
    "    for label in neighbor_labels:\n",
    "        labels_count[label] += 1\n",
    "    # Nhãn predict là nhãn có lượng votes cao nhất\n",
    "    max_count = max(labels_count)\n",
    "    return labels_count.index(max_count)"
   ]
  },
  {
   "cell_type": "markdown",
   "id": "d4a8a218",
   "metadata": {},
   "source": [
    "# Dự đoán và đánh giá"
   ]
  },
  {
   "cell_type": "code",
   "execution_count": 71,
   "id": "fc838b0f",
   "metadata": {},
   "outputs": [
    {
     "name": "stderr",
     "output_type": "stream",
     "text": [
      "100%|████████████████████████████████████████████████████████████████████████████████| 360/360 [03:23<00:00,  1.77it/s]\n"
     ]
    }
   ],
   "source": [
    "y_predict_3 = []\n",
    "y_predict_5 = []\n",
    "y_predict_10 = []\n",
    "y_predict_100 = []\n",
    "for p in tqdm(X_test):\n",
    "    # K=3\n",
    "    label = predict(X_train, y_train, p, 3)\n",
    "    y_predict_3.append(label)\n",
    "    # K=5\n",
    "    label = predict(X_train, y_train, p, 5)\n",
    "    y_predict_5.append(label)\n",
    "    # K=10\n",
    "    label = predict(X_train, y_train, p, 10)\n",
    "    y_predict_10.append(label)\n",
    "    # K=100\n",
    "    label = predict(X_train, y_train, p, 100)\n",
    "    y_predict_100.append(label)\n"
   ]
  },
  {
   "cell_type": "code",
   "execution_count": 73,
   "id": "d5b3e5da",
   "metadata": {
    "scrolled": true
   },
   "outputs": [
    {
     "name": "stdout",
     "output_type": "stream",
     "text": [
      "Score with k=3: 0.9916666666666667\n",
      "Score with k=5: 0.9916666666666667\n",
      "Score with k=10: 0.9888888888888889\n",
      "Score with k=100: 0.9444444444444444\n"
     ]
    }
   ],
   "source": [
    "print('Score with k=3: {}'.format(accuracy_score(y_predict_3, y_test)))\n",
    "print('Score with k=5: {}'.format(accuracy_score(y_predict_5, y_test)))\n",
    "print('Score with k=10: {}'.format(accuracy_score(y_predict_10, y_test)))\n",
    "print('Score with k=100: {}'.format(accuracy_score(y_predict_100, y_test)))"
   ]
  },
  {
   "cell_type": "markdown",
   "id": "5a69940a",
   "metadata": {},
   "source": [
    "# Gọi và sử dụng KNN trong thư viện sklearn"
   ]
  },
  {
   "cell_type": "code",
   "execution_count": 69,
   "id": "cb16cf0e",
   "metadata": {},
   "outputs": [],
   "source": [
    "knn_model = neighbors.KNeighborsClassifier(n_neighbors = 5)\n",
    "knn_model.fit(X_train, y_train)\n",
    "y_predict_sklearn = knn.predict(X_test)"
   ]
  },
  {
   "cell_type": "code",
   "execution_count": 70,
   "id": "cab4a8bc",
   "metadata": {},
   "outputs": [
    {
     "data": {
      "text/plain": [
       "0.9916666666666667"
      ]
     },
     "execution_count": 70,
     "metadata": {},
     "output_type": "execute_result"
    }
   ],
   "source": [
    "accuracy_score(y_predict_sklearn, y_test)"
   ]
  }
 ],
 "metadata": {
  "kernelspec": {
   "display_name": "Python 3 (ipykernel)",
   "language": "python",
   "name": "python3"
  },
  "language_info": {
   "codemirror_mode": {
    "name": "ipython",
    "version": 3
   },
   "file_extension": ".py",
   "mimetype": "text/x-python",
   "name": "python",
   "nbconvert_exporter": "python",
   "pygments_lexer": "ipython3",
   "version": "3.7.9"
  }
 },
 "nbformat": 4,
 "nbformat_minor": 5
}
